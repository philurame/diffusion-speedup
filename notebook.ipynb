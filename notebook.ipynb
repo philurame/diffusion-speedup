{
 "cells": [
  {
   "cell_type": "code",
   "execution_count": 1,
   "metadata": {},
   "outputs": [],
   "source": [
    "%reload_ext autoreload\n",
    "%autoreload 2"
   ]
  },
  {
   "cell_type": "code",
   "execution_count": null,
   "metadata": {},
   "outputs": [],
   "source": [
    "!rm -r diffusion-speedup\n",
    "!pip install -qq -U torch torchvision diffusers transformers accelerate DeepCache tgate pytorch-fid\n",
    "!git clone https://github.com/philurame/diffusion_speedup.git\n",
    "!pip install -qq -U git+https://github.com/openai/CLIP.git"
   ]
  },
  {
   "cell_type": "code",
   "execution_count": null,
   "metadata": {},
   "outputs": [],
   "source": [
    "from diffusion_speedup.SDclass import SDCompare\n",
    "from diffusers import DPMSolverMultistepScheduler\n",
    "scheduler_dict = dict(\n",
    "    scheduler = DPMSolverMultistepScheduler,\n",
    "    name = \"DPMSolverMultistepScheduler\",\n",
    ")\n",
    "\n",
    "sd = SDCompare(scheduler_dict, cache_model='both')"
   ]
  },
  {
   "cell_type": "code",
   "execution_count": null,
   "metadata": {},
   "outputs": [],
   "source": [
    "sd.get_stats(val_test='val')"
   ]
  }
 ],
 "metadata": {
  "kernelspec": {
   "display_name": "global_venv",
   "language": "python",
   "name": "python3"
  },
  "language_info": {
   "codemirror_mode": {
    "name": "ipython",
    "version": 3
   },
   "file_extension": ".py",
   "mimetype": "text/x-python",
   "name": "python",
   "nbconvert_exporter": "python",
   "pygments_lexer": "ipython3",
   "version": "3.9.6"
  }
 },
 "nbformat": 4,
 "nbformat_minor": 2
}
